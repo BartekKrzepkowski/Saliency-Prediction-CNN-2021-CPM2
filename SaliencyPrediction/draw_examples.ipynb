{
 "cells": [
  {
   "cell_type": "code",
   "execution_count": 8,
   "id": "academic-lobby",
   "metadata": {},
   "outputs": [],
   "source": [
    "from utils import draw_at_random          "
   ]
  },
  {
   "cell_type": "code",
   "execution_count": 16,
   "id": "herbal-genealogy",
   "metadata": {},
   "outputs": [],
   "source": [
    "root_path = 'cat2000'\n",
    "x = 'train'"
   ]
  },
  {
   "cell_type": "code",
   "execution_count": 17,
   "id": "grand-cylinder",
   "metadata": {},
   "outputs": [],
   "source": [
    "imgs_path = lambda x: f'{root_path}/{x}/Stimuli/'\n",
    "\n",
    "imgs_path = imgs_path(x)"
   ]
  },
  {
   "cell_type": "code",
   "execution_count": 19,
   "id": "social-mouth",
   "metadata": {},
   "outputs": [
    {
     "data": {
      "text/plain": [
       "{'Affective': 'cat2000/train/Stimuli/Affective/079.jpg',\n",
       " 'Inverted': 'cat2000/train/Stimuli/Inverted/177.jpg',\n",
       " 'Object': 'cat2000/train/Stimuli/Object/053.jpg',\n",
       " 'Fractal': 'cat2000/train/Stimuli/Fractal/069.jpg',\n",
       " 'OutdoorNatural': 'cat2000/train/Stimuli/OutdoorNatural/175.jpg',\n",
       " 'Sketch': 'cat2000/train/Stimuli/Sketch/083.jpg',\n",
       " 'Random': 'cat2000/train/Stimuli/Random/077.jpg',\n",
       " 'Noisy': 'cat2000/train/Stimuli/Noisy/139.jpg',\n",
       " 'Cartoon': 'cat2000/train/Stimuli/Cartoon/001.jpg',\n",
       " 'LowResolution': 'cat2000/train/Stimuli/LowResolution/189.jpg',\n",
       " 'BlackWhite': 'cat2000/train/Stimuli/BlackWhite/033.jpg',\n",
       " 'LineDrawing': 'cat2000/train/Stimuli/LineDrawing/155.jpg',\n",
       " 'OutdoorManMade': 'cat2000/train/Stimuli/OutdoorManMade/103.jpg',\n",
       " 'Pattern': 'cat2000/train/Stimuli/Pattern/135.jpg',\n",
       " 'Art': 'cat2000/train/Stimuli/Art/045.jpg',\n",
       " 'Indoor': 'cat2000/train/Stimuli/Indoor/003.jpg',\n",
       " 'Social': 'cat2000/train/Stimuli/Social/039.jpg',\n",
       " 'Action': 'cat2000/train/Stimuli/Action/179.jpg',\n",
       " 'Jumbled': 'cat2000/train/Stimuli/Jumbled/075.jpg',\n",
       " 'Satelite': 'cat2000/train/Stimuli/Satelite/189.jpg'}"
      ]
     },
     "execution_count": 19,
     "metadata": {},
     "output_type": "execute_result"
    }
   ],
   "source": [
    "draw_at_random(imgs_path)"
   ]
  },
  {
   "cell_type": "code",
   "execution_count": null,
   "id": "collected-skating",
   "metadata": {},
   "outputs": [],
   "source": []
  }
 ],
 "metadata": {
  "kernelspec": {
   "display_name": "tldl",
   "language": "python",
   "name": "tldl"
  },
  "language_info": {
   "codemirror_mode": {
    "name": "ipython",
    "version": 3
   },
   "file_extension": ".py",
   "mimetype": "text/x-python",
   "name": "python",
   "nbconvert_exporter": "python",
   "pygments_lexer": "ipython3",
   "version": "3.8.10"
  }
 },
 "nbformat": 4,
 "nbformat_minor": 5
}

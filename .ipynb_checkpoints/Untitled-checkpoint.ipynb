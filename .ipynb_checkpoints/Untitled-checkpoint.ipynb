{
 "cells": [
  {
   "cell_type": "code",
   "execution_count": 1,
   "id": "disabled-window",
   "metadata": {},
   "outputs": [],
   "source": [
    "import torch\n",
    "import numpy as np"
   ]
  },
  {
   "cell_type": "code",
   "execution_count": null,
   "id": "interpreted-literature",
   "metadata": {},
   "outputs": [],
   "source": [
    "class Trainer:\n",
    "    def __init__(self, model, loaders):\n",
    "        self.model = model\n",
    "        self.loaders = loaders\n",
    "    \n",
    "    def fit(self, epochs):\n",
    "        for epoch in tqdm(range(epochs)):\n",
    "                self.model.train()\n",
    "                self.run_epochs('train', epoch)\n",
    "\n",
    "                self.model.eval()\n",
    "                with torch.no_grad():\n",
    "                    self.run_epochs('val', epoch)\n",
    "\n",
    "                gc.collect()\n",
    "                \n",
    "                \n",
    "    def run_epochs(self, phase: str, epoch: int):\n",
    "        mm = self.run_m.at_epoch_begin()\n",
    "        for i, (x_true, y_true) in enumerate(self.loaders[phase]):\n",
    "            y_pred, y_true = self.model(x_true.to(self.device)), y_true.to(self.device)\n",
    "            loss = self.criterion(y_pred, y_true)\n",
    "            ###\n",
    "            mm.track_metric('loss', loss.item())\n",
    "            mm.track_metric('acc', matches(y_pred, y_true))\n",
    "            ###\n",
    "            if phase == 'train':\n",
    "                self.optimizer.zero_grad()\n",
    "                loss.backward(); self.optimizer.step()\n",
    "                if (i + 1) % mm.inter_step == 0:\n",
    "                    self.run_m.at_epoch_inter()\n",
    "            else: self.run_m.tb.update_y(F.softmax(y_pred, dim=1), y_true)\n",
    "        self.run_m.at_epoch_end(phase)\n",
    "            "
   ]
  },
  {
   "cell_type": "code",
   "execution_count": null,
   "id": "brilliant-beast",
   "metadata": {},
   "outputs": [],
   "source": []
  },
  {
   "cell_type": "code",
   "execution_count": null,
   "id": "increasing-backing",
   "metadata": {},
   "outputs": [],
   "source": [
    "for run in RunBuilder.get_runs(runs_params):\n",
    "            ###\n",
    "            self.custom_run_initializer(run)\n",
    "            ###\n",
    "            self.run_m.at_run_begin(run, inter_step,\n",
    "                                    self.loaders, self.mm_names,\n",
    "                                    self.flags, self.internal_params)\n",
    "            for epoch in tqdm(range(epochs)):\n",
    "                self.model.train()\n",
    "                self.look_at_data('train', epoch)\n",
    "\n",
    "                self.model.eval()\n",
    "                with torch.no_grad():\n",
    "                    self.look_at_data('val', epoch)\n",
    "\n",
    "                gc.collect()\n",
    "            self.run_m.at_run_end()\n",
    "        self.run_m.at_experiment_end()\n",
    "        print(\"Training Completed\")\n",
    "        \n",
    "        \n",
    "    def look_at_data(self, phase: str, epoch: int):\n",
    "        mm = self.run_m.at_epoch_begin()\n",
    "        for i, (x_true, y_true) in enumerate(self.loaders[phase]):\n",
    "            y_pred, y_true = self.model(x_true.to(self.device)), y_true.to(self.device)\n",
    "            loss = self.criterion(y_pred, y_true)\n",
    "            ###\n",
    "            mm.track_metric('loss', loss.item())\n",
    "            mm.track_metric('acc', matches(y_pred, y_true))\n",
    "            ###\n",
    "            if phase == 'train':\n",
    "                self.optimizer.zero_grad()\n",
    "                loss.backward(); self.optimizer.step()\n",
    "                if (i + 1) % mm.inter_step == 0:\n",
    "                    self.run_m.at_epoch_inter()\n",
    "            else: self.run_m.tb.update_y(F.softmax(y_pred, dim=1), y_true)\n",
    "        self.run_m.at_epoch_end(phase)"
   ]
  }
 ],
 "metadata": {
  "kernelspec": {
   "display_name": "tldl",
   "language": "python",
   "name": "tldl"
  },
  "language_info": {
   "codemirror_mode": {
    "name": "ipython",
    "version": 3
   },
   "file_extension": ".py",
   "mimetype": "text/x-python",
   "name": "python",
   "nbconvert_exporter": "python",
   "pygments_lexer": "ipython3",
   "version": "3.8.10"
  }
 },
 "nbformat": 4,
 "nbformat_minor": 5
}

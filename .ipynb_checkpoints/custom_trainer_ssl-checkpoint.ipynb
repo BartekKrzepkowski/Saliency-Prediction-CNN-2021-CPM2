{
 "cells": [
  {
   "cell_type": "code",
   "execution_count": null,
   "metadata": {
    "ExecuteTime": {
     "end_time": "2019-12-14T15:51:58.901863Z",
     "start_time": "2019-12-14T15:51:58.894091Z"
    },
    "code_folding": []
   },
   "outputs": [],
   "source": [
    "%%HTML\n",
    "<style>.container { width:85% !important; }</style>"
   ]
  },
  {
   "cell_type": "code",
   "execution_count": null,
   "metadata": {
    "ExecuteTime": {
     "end_time": "2019-12-14T15:51:59.198006Z",
     "start_time": "2019-12-14T15:51:58.903334Z"
    }
   },
   "outputs": [],
   "source": [
    "%load_ext autoreload\n",
    "%autoreload 2\n",
    "%matplotlib inline"
   ]
  },
  {
   "cell_type": "code",
   "execution_count": null,
   "metadata": {
    "ExecuteTime": {
     "end_time": "2019-12-14T15:51:59.869802Z",
     "start_time": "2019-12-14T15:51:59.199582Z"
    }
   },
   "outputs": [],
   "source": [
    "import path\n",
    "import torch\n",
    "from collections import OrderedDict\n",
    "device = torch.device('cuda:0' if torch.cuda.is_available() else 'cpu')\n",
    "device"
   ]
  },
  {
   "cell_type": "markdown",
   "metadata": {},
   "source": [
    "# Tensorboard Params"
   ]
  },
  {
   "cell_type": "code",
   "execution_count": null,
   "metadata": {},
   "outputs": [],
   "source": [
    "flags = {\n",
    "    'embeddings': False,\n",
    "    'histogram_values1d': True,\n",
    "    'image_misclassifications': False,\n",
    "    'pr_curve_per_label': False\n",
    "}\n",
    "internal_params = {\n",
    "    'func1d': ['entropy', 'max_prob', 'max_label'],\n",
    "    'epoch_threshold': 10,\n",
    "    'prob_threshold': 0.9,\n",
    "    'amount': 5\n",
    "}"
   ]
  },
  {
   "cell_type": "markdown",
   "metadata": {},
   "source": [
    "# Trainer Setup"
   ]
  },
  {
   "cell_type": "code",
   "execution_count": null,
   "metadata": {
    "ExecuteTime": {
     "end_time": "2019-12-14T15:52:02.792150Z",
     "start_time": "2019-12-14T15:51:59.908584Z"
    }
   },
   "outputs": [],
   "source": [
    "# trainer\n",
    "from trainers.pytorch_custom_trainer import PyTorchTrainer\n",
    "\n",
    "# dataset\n",
    "from data.crafted_datasets import load_custom_gen, get_loader_idxs\n",
    "# model\n",
    "from models.crafted_models import PTModel, NetCNN, NetCNN2D, NetCNN3D\n",
    "# criterion\n",
    "from models.losses import LabelSmoothingLoss\n",
    "\n",
    "\n",
    "train_params = {\n",
    "    'model': NetCNN,\n",
    "#     'criterion': LabelSmoothingLoss,\n",
    "    'criterion': torch.nn.CrossEntropyLoss,\n",
    "    'loaders': get_loader_idxs,\n",
    "    'flags': flags,\n",
    "    'internal_params': internal_params,\n",
    "    'device': device\n",
    "}\n",
    "\n",
    "trainer_pt = PyTorchTrainer(**train_params)"
   ]
  },
  {
   "cell_type": "code",
   "execution_count": null,
   "metadata": {},
   "outputs": [],
   "source": [
    "from torchvision import datasets, models\n",
    "# from data.crafted_datasets import convert_data_to_idxs\n",
    "# convert_data_to_idxs('CIFAR10', source_type='tv', tv_dataset=datasets.SVHN()"
   ]
  },
  {
   "cell_type": "markdown",
   "metadata": {},
   "source": [
    "# Runs & Other Params"
   ]
  },
  {
   "cell_type": "code",
   "execution_count": null,
   "metadata": {},
   "outputs": [],
   "source": [
    "from models.optimizers import RAdam, Ranger"
   ]
  },
  {
   "cell_type": "code",
   "execution_count": null,
   "metadata": {},
   "outputs": [],
   "source": [
    "IMG_H = 32*4\n",
    "IMG_W = IMG_H\n",
    "IMG_SIZE = (IMG_H, IMG_H)\n",
    "OUT_DIM = 10\n",
    "RUN_NB = 1\n",
    "\n",
    "params_model = {\n",
    "    \"x_channel\": 3,\n",
    "    \"h_channel\": 8,\n",
    "    \"y_dim\": OUT_DIM,\n",
    "    \n",
    "    \"kernel_size\": 2,\n",
    "    \"stride_size\": 1,\n",
    "    \n",
    "    \"prob_dropout\": 0.2,\n",
    "    'img_size': IMG_SIZE\n",
    "}\n",
    "# params_model = {\n",
    "#     \"y_dim\": OUT_DIM,\n",
    "#     \"prob_dropout\": 0.2\n",
    "# }\n",
    "\n",
    "params_criterion = {\n",
    "    'reduction': 'sum'\n",
    "}\n",
    "params_loader = {\n",
    "    'data_dir': 'data/external_data/CIFAR10',\n",
    "    'source_type': 'tv',\n",
    "    'tv_dataset': datasets.CIFAR10,\n",
    "    'img_size': IMG_SIZE,\n",
    "    'k': 0\n",
    "}\n",
    "\n",
    "# other\n",
    "other_params = {\n",
    "    'net': params_model,\n",
    "    'criterion': params_criterion,\n",
    "    'loader': params_loader\n",
    "}\n",
    "\n",
    "run_init_params ={\n",
    "    'inter_step': 300,\n",
    "    'patience': 10,\n",
    "    'to_remove': ['pretrained_model'],\n",
    "    'unc_scorer': 'entropy',\n",
    "    'is_ssl': False\n",
    "    \n",
    "}\n",
    "\n",
    "M = 4\n",
    "runs_params = OrderedDict(lr = [.01*M],\n",
    "                          wd = [0.001],\n",
    "                          batch_size = [8*M],\n",
    "                          optimizer = [Ranger, RAdam, torch.optim.AdamW, torch.optim.SGD],#torch.optim.Adagrad, torch.optim.Adam, torch.optim.RMSprop, torch.optim.AdamW, \n",
    "                          lr_scheduler = [torch.optim.lr_scheduler.ReduceLROnPlateau],\n",
    "                          transformer_kind = ['unl'],# 'noise0', 'noise2'], \n",
    "#                           pretrained_model = [models.densenet121],\n",
    "                          run_nb = torch.arange(RUN_NB).numpy()\n",
    "                         )"
   ]
  },
  {
   "cell_type": "code",
   "execution_count": null,
   "metadata": {},
   "outputs": [],
   "source": [
    "from torchtoolbox.tools import summary\n",
    "summary(train_params['model'](**params_model), torch.randn(1, 3, *IMG_SIZE))"
   ]
  },
  {
   "cell_type": "code",
   "execution_count": null,
   "metadata": {},
   "outputs": [],
   "source": [
    "# model = train_params['model'](**params_model)\n",
    "\n",
    "# opt = torch.optim.SGD(model.parameters(), 0.1)\n",
    "\n",
    "# opt.step"
   ]
  },
  {
   "cell_type": "markdown",
   "metadata": {},
   "source": [
    "# Train via Trainer"
   ]
  },
  {
   "cell_type": "code",
   "execution_count": null,
   "metadata": {
    "ExecuteTime": {
     "end_time": "2019-12-14T15:53:33.267891Z",
     "start_time": "2019-12-14T15:52:28.993678Z"
    }
   },
   "outputs": [],
   "source": [
    "EXTRA = 'opt+lookahead+plateau'\n",
    "MODE = 'classic'\n",
    "run_trainer_params = {\n",
    "    'experiment_name': f'{MODE}_{EXTRA}',\n",
    "    'mode': MODE,\n",
    "    'epochs': 30,\n",
    "    'is_tsa': False,\n",
    "    'is_mixup': False,\n",
    "    'is_mixed_precision': False,\n",
    "    'run_init_params': run_init_params,\n",
    "    'runs_params': runs_params,\n",
    "    'other_params': other_params\n",
    "}\n",
    "\n",
    "trainer_pt.run_trainer(**run_trainer_params)"
   ]
  },
  {
   "cell_type": "code",
   "execution_count": null,
   "metadata": {},
   "outputs": [],
   "source": []
  }
 ],
 "metadata": {
  "kernelspec": {
   "display_name": "tldl",
   "language": "python",
   "name": "tldl"
  },
  "language_info": {
   "codemirror_mode": {
    "name": "ipython",
    "version": 3
   },
   "file_extension": ".py",
   "mimetype": "text/x-python",
   "name": "python",
   "nbconvert_exporter": "python",
   "pygments_lexer": "ipython3",
   "version": "3.8.5"
  },
  "varInspector": {
   "cols": {
    "lenName": 16,
    "lenType": 16,
    "lenVar": 40
   },
   "kernels_config": {
    "python": {
     "delete_cmd_postfix": "",
     "delete_cmd_prefix": "del ",
     "library": "var_list.py",
     "varRefreshCmd": "print(var_dic_list())"
    },
    "r": {
     "delete_cmd_postfix": ") ",
     "delete_cmd_prefix": "rm(",
     "library": "var_list.r",
     "varRefreshCmd": "cat(var_dic_list()) "
    }
   },
   "types_to_exclude": [
    "module",
    "function",
    "builtin_function_or_method",
    "instance",
    "_Feature"
   ],
   "window_display": false
  }
 },
 "nbformat": 4,
 "nbformat_minor": 4
}

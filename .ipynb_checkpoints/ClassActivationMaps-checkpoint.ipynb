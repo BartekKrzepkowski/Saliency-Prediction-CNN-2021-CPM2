{
 "cells": [
  {
   "cell_type": "code",
   "execution_count": 1,
   "id": "amino-measure",
   "metadata": {},
   "outputs": [],
   "source": [
    "import torch\n",
    "import torchvision"
   ]
  },
  {
   "cell_type": "code",
   "execution_count": null,
   "id": "organic-protest",
   "metadata": {},
   "outputs": [],
   "source": [
    "# load model\n",
    "\n",
    "class Model():\n",
    "    def _init__(self):\n",
    "        self.pretrained_layer = torchvision.models.vgg19(pretrained=True)\n",
    "        for param in model.parameters():\n",
    "            param.requires_grad = False\n",
    "            \n",
    "        \n",
    "    \n",
    "    def forward(self, x):\n",
    "        pass\n",
    "    \n",
    "    "
   ]
  },
  {
   "cell_type": "code",
   "execution_count": null,
   "id": "inclusive-fitting",
   "metadata": {},
   "outputs": [],
   "source": [
    "# load the model\n",
    "model = models.resnet18(pretrained=True).eval()\n",
    "# hook the feature extractor\n",
    "# https://github.com/zhoubolei/CAM/blob/master/pytorch_CAM.py\n",
    "features_blobs = []\n",
    "def hook_feature(module, input, output):\n",
    "    features_blobs.append(output.data.cpu().numpy())\n",
    "model._modules.get('layer4').register_forward_hook(hook_feature)\n",
    "# get the softmax weight\n",
    "params = list(model.parameters())\n",
    "weight_softmax = np.squeeze(params[-2].data.numpy())"
   ]
  }
 ],
 "metadata": {
  "kernelspec": {
   "display_name": "tldl",
   "language": "python",
   "name": "tldl"
  },
  "language_info": {
   "codemirror_mode": {
    "name": "ipython",
    "version": 3
   },
   "file_extension": ".py",
   "mimetype": "text/x-python",
   "name": "python",
   "nbconvert_exporter": "python",
   "pygments_lexer": "ipython3",
   "version": "3.8.10"
  }
 },
 "nbformat": 4,
 "nbformat_minor": 5
}
